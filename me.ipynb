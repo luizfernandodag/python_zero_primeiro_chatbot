{
 "cells": [
  {
   "cell_type": "markdown",
   "metadata": {},
   "source": [
    "# Bibliotecas"
   ]
  },
  {
   "cell_type": "code",
   "execution_count": null,
   "metadata": {},
   "outputs": [
    {
     "name": "stdout",
     "output_type": "stream",
     "text": [
      "Collecting langchain-community==0.3.0\n",
      "  Downloading langchain_community-0.3.0-py3-none-any.whl.metadata (2.8 kB)\n",
      "Requirement already satisfied: PyYAML>=5.3 in c:\\users\\luiz\\appdata\\local\\programs\\python\\python312\\lib\\site-packages (from langchain-community==0.3.0) (6.0.2)\n",
      "Requirement already satisfied: SQLAlchemy<3,>=1.4 in c:\\users\\luiz\\appdata\\local\\programs\\python\\python312\\lib\\site-packages (from langchain-community==0.3.0) (2.0.36)\n",
      "Requirement already satisfied: aiohttp<4.0.0,>=3.8.3 in c:\\users\\luiz\\appdata\\local\\programs\\python\\python312\\lib\\site-packages (from langchain-community==0.3.0) (3.11.9)\n",
      "Collecting dataclasses-json<0.7,>=0.5.7 (from langchain-community==0.3.0)\n",
      "  Downloading dataclasses_json-0.6.7-py3-none-any.whl.metadata (25 kB)\n",
      "Requirement already satisfied: langchain<0.4.0,>=0.3.0 in c:\\users\\luiz\\appdata\\local\\programs\\python\\python312\\lib\\site-packages (from langchain-community==0.3.0) (0.3.0)\n",
      "Requirement already satisfied: langchain-core<0.4.0,>=0.3.0 in c:\\users\\luiz\\appdata\\local\\programs\\python\\python312\\lib\\site-packages (from langchain-community==0.3.0) (0.3.21)\n",
      "Requirement already satisfied: langsmith<0.2.0,>=0.1.112 in c:\\users\\luiz\\appdata\\local\\programs\\python\\python312\\lib\\site-packages (from langchain-community==0.3.0) (0.1.147)\n",
      "Requirement already satisfied: numpy<2.0.0,>=1.26.0 in c:\\users\\luiz\\appdata\\local\\programs\\python\\python312\\lib\\site-packages (from langchain-community==0.3.0) (1.26.4)\n",
      "Requirement already satisfied: pydantic-settings<3.0.0,>=2.4.0 in c:\\users\\luiz\\appdata\\local\\programs\\python\\python312\\lib\\site-packages (from langchain-community==0.3.0) (2.6.1)\n",
      "Requirement already satisfied: requests<3,>=2 in c:\\users\\luiz\\appdata\\local\\programs\\python\\python312\\lib\\site-packages (from langchain-community==0.3.0) (2.32.3)\n",
      "Requirement already satisfied: tenacity!=8.4.0,<9.0.0,>=8.1.0 in c:\\users\\luiz\\appdata\\local\\programs\\python\\python312\\lib\\site-packages (from langchain-community==0.3.0) (8.5.0)\n",
      "Requirement already satisfied: aiohappyeyeballs>=2.3.0 in c:\\users\\luiz\\appdata\\local\\programs\\python\\python312\\lib\\site-packages (from aiohttp<4.0.0,>=3.8.3->langchain-community==0.3.0) (2.4.4)\n",
      "Requirement already satisfied: aiosignal>=1.1.2 in c:\\users\\luiz\\appdata\\local\\programs\\python\\python312\\lib\\site-packages (from aiohttp<4.0.0,>=3.8.3->langchain-community==0.3.0) (1.3.1)\n",
      "Requirement already satisfied: attrs>=17.3.0 in c:\\users\\luiz\\appdata\\local\\programs\\python\\python312\\lib\\site-packages (from aiohttp<4.0.0,>=3.8.3->langchain-community==0.3.0) (24.2.0)\n",
      "Requirement already satisfied: frozenlist>=1.1.1 in c:\\users\\luiz\\appdata\\local\\programs\\python\\python312\\lib\\site-packages (from aiohttp<4.0.0,>=3.8.3->langchain-community==0.3.0) (1.5.0)\n",
      "Requirement already satisfied: multidict<7.0,>=4.5 in c:\\users\\luiz\\appdata\\local\\programs\\python\\python312\\lib\\site-packages (from aiohttp<4.0.0,>=3.8.3->langchain-community==0.3.0) (6.1.0)\n",
      "Requirement already satisfied: propcache>=0.2.0 in c:\\users\\luiz\\appdata\\local\\programs\\python\\python312\\lib\\site-packages (from aiohttp<4.0.0,>=3.8.3->langchain-community==0.3.0) (0.2.1)\n",
      "Requirement already satisfied: yarl<2.0,>=1.17.0 in c:\\users\\luiz\\appdata\\local\\programs\\python\\python312\\lib\\site-packages (from aiohttp<4.0.0,>=3.8.3->langchain-community==0.3.0) (1.18.3)\n",
      "Collecting marshmallow<4.0.0,>=3.18.0 (from dataclasses-json<0.7,>=0.5.7->langchain-community==0.3.0)\n",
      "  Downloading marshmallow-3.23.1-py3-none-any.whl.metadata (7.5 kB)\n",
      "Collecting typing-inspect<1,>=0.4.0 (from dataclasses-json<0.7,>=0.5.7->langchain-community==0.3.0)\n",
      "  Downloading typing_inspect-0.9.0-py3-none-any.whl.metadata (1.5 kB)\n",
      "Requirement already satisfied: langchain-text-splitters<0.4.0,>=0.3.0 in c:\\users\\luiz\\appdata\\local\\programs\\python\\python312\\lib\\site-packages (from langchain<0.4.0,>=0.3.0->langchain-community==0.3.0) (0.3.2)\n",
      "Requirement already satisfied: pydantic<3.0.0,>=2.7.4 in c:\\users\\luiz\\appdata\\local\\programs\\python\\python312\\lib\\site-packages (from langchain<0.4.0,>=0.3.0->langchain-community==0.3.0) (2.9.2)\n",
      "Requirement already satisfied: jsonpatch<2.0,>=1.33 in c:\\users\\luiz\\appdata\\local\\programs\\python\\python312\\lib\\site-packages (from langchain-core<0.4.0,>=0.3.0->langchain-community==0.3.0) (1.33)\n",
      "Requirement already satisfied: packaging<25,>=23.2 in c:\\users\\luiz\\appdata\\local\\programs\\python\\python312\\lib\\site-packages (from langchain-core<0.4.0,>=0.3.0->langchain-community==0.3.0) (24.1)\n",
      "Requirement already satisfied: typing-extensions>=4.7 in c:\\users\\luiz\\appdata\\local\\programs\\python\\python312\\lib\\site-packages (from langchain-core<0.4.0,>=0.3.0->langchain-community==0.3.0) (4.12.2)\n",
      "Requirement already satisfied: httpx<1,>=0.23.0 in c:\\users\\luiz\\appdata\\local\\programs\\python\\python312\\lib\\site-packages (from langsmith<0.2.0,>=0.1.112->langchain-community==0.3.0) (0.27.0)\n",
      "Requirement already satisfied: orjson<4.0.0,>=3.9.14 in c:\\users\\luiz\\appdata\\local\\programs\\python\\python312\\lib\\site-packages (from langsmith<0.2.0,>=0.1.112->langchain-community==0.3.0) (3.10.12)\n",
      "Requirement already satisfied: requests-toolbelt<2.0.0,>=1.0.0 in c:\\users\\luiz\\appdata\\local\\programs\\python\\python312\\lib\\site-packages (from langsmith<0.2.0,>=0.1.112->langchain-community==0.3.0) (1.0.0)\n",
      "Requirement already satisfied: python-dotenv>=0.21.0 in c:\\users\\luiz\\appdata\\local\\programs\\python\\python312\\lib\\site-packages (from pydantic-settings<3.0.0,>=2.4.0->langchain-community==0.3.0) (1.0.1)\n",
      "Requirement already satisfied: charset-normalizer<4,>=2 in c:\\users\\luiz\\appdata\\local\\programs\\python\\python312\\lib\\site-packages (from requests<3,>=2->langchain-community==0.3.0) (3.3.2)\n",
      "Requirement already satisfied: idna<4,>=2.5 in c:\\users\\luiz\\appdata\\local\\programs\\python\\python312\\lib\\site-packages (from requests<3,>=2->langchain-community==0.3.0) (3.7)\n",
      "Requirement already satisfied: urllib3<3,>=1.21.1 in c:\\users\\luiz\\appdata\\local\\programs\\python\\python312\\lib\\site-packages (from requests<3,>=2->langchain-community==0.3.0) (2.2.2)\n",
      "Requirement already satisfied: certifi>=2017.4.17 in c:\\users\\luiz\\appdata\\local\\programs\\python\\python312\\lib\\site-packages (from requests<3,>=2->langchain-community==0.3.0) (2024.7.4)\n",
      "Requirement already satisfied: greenlet!=0.4.17 in c:\\users\\luiz\\appdata\\local\\programs\\python\\python312\\lib\\site-packages (from SQLAlchemy<3,>=1.4->langchain-community==0.3.0) (3.1.1)\n",
      "Requirement already satisfied: anyio in c:\\users\\luiz\\appdata\\local\\programs\\python\\python312\\lib\\site-packages (from httpx<1,>=0.23.0->langsmith<0.2.0,>=0.1.112->langchain-community==0.3.0) (4.4.0)\n",
      "Requirement already satisfied: httpcore==1.* in c:\\users\\luiz\\appdata\\local\\programs\\python\\python312\\lib\\site-packages (from httpx<1,>=0.23.0->langsmith<0.2.0,>=0.1.112->langchain-community==0.3.0) (1.0.5)\n",
      "Requirement already satisfied: sniffio in c:\\users\\luiz\\appdata\\local\\programs\\python\\python312\\lib\\site-packages (from httpx<1,>=0.23.0->langsmith<0.2.0,>=0.1.112->langchain-community==0.3.0) (1.3.1)\n",
      "Requirement already satisfied: h11<0.15,>=0.13 in c:\\users\\luiz\\appdata\\local\\programs\\python\\python312\\lib\\site-packages (from httpcore==1.*->httpx<1,>=0.23.0->langsmith<0.2.0,>=0.1.112->langchain-community==0.3.0) (0.14.0)\n",
      "Requirement already satisfied: jsonpointer>=1.9 in c:\\users\\luiz\\appdata\\local\\programs\\python\\python312\\lib\\site-packages (from jsonpatch<2.0,>=1.33->langchain-core<0.4.0,>=0.3.0->langchain-community==0.3.0) (3.0.0)\n",
      "Requirement already satisfied: annotated-types>=0.6.0 in c:\\users\\luiz\\appdata\\local\\programs\\python\\python312\\lib\\site-packages (from pydantic<3.0.0,>=2.7.4->langchain<0.4.0,>=0.3.0->langchain-community==0.3.0) (0.7.0)\n",
      "Requirement already satisfied: pydantic-core==2.23.4 in c:\\users\\luiz\\appdata\\local\\programs\\python\\python312\\lib\\site-packages (from pydantic<3.0.0,>=2.7.4->langchain<0.4.0,>=0.3.0->langchain-community==0.3.0) (2.23.4)\n",
      "Requirement already satisfied: mypy-extensions>=0.3.0 in c:\\users\\luiz\\appdata\\local\\programs\\python\\python312\\lib\\site-packages (from typing-inspect<1,>=0.4.0->dataclasses-json<0.7,>=0.5.7->langchain-community==0.3.0) (1.0.0)\n",
      "Downloading langchain_community-0.3.0-py3-none-any.whl (2.3 MB)\n",
      "   ---------------------------------------- 0.0/2.3 MB ? eta -:--:--\n",
      "   ---------------------------------------- 2.3/2.3 MB 22.2 MB/s eta 0:00:00\n",
      "Downloading dataclasses_json-0.6.7-py3-none-any.whl (28 kB)\n",
      "Downloading marshmallow-3.23.1-py3-none-any.whl (49 kB)\n",
      "Downloading typing_inspect-0.9.0-py3-none-any.whl (8.8 kB)\n",
      "Installing collected packages: typing-inspect, marshmallow, dataclasses-json, langchain-community\n",
      "Successfully installed dataclasses-json-0.6.7 langchain-community-0.3.0 marshmallow-3.23.1 typing-inspect-0.9.0\n"
     ]
    },
    {
     "name": "stderr",
     "output_type": "stream",
     "text": [
      "DEPRECATION: Loading egg at c:\\users\\luiz\\appdata\\local\\programs\\python\\python312\\lib\\site-packages\\vboxapi-1.0-py3.12.egg is deprecated. pip 25.1 will enforce this behaviour change. A possible replacement is to use pip for package installation. Discussion can be found at https://github.com/pypa/pip/issues/12330\n"
     ]
    }
   ],
   "source": [
    "#!pip install langchain==0.3.0\n",
    "\n",
    "#!pip install langchain-groq==0.2.9\n",
    "#!pip install langchain-community==0.3.0\n",
    "#!pip install groq\n"
   ]
  },
  {
   "cell_type": "code",
   "execution_count": 6,
   "metadata": {},
   "outputs": [],
   "source": [
    "api_key ='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'"
   ]
  },
  {
   "cell_type": "markdown",
   "metadata": {},
   "source": [
    "# Primeira chamada ao modelo"
   ]
  },
  {
   "cell_type": "code",
   "execution_count": 7,
   "metadata": {},
   "outputs": [],
   "source": [
    "import os\n",
    "\n",
    "os.environ['GROQ_API_KEY'] = api_key\n"
   ]
  },
  {
   "cell_type": "code",
   "execution_count": 16,
   "metadata": {},
   "outputs": [],
   "source": [
    "from langchain_groq import ChatGroq\n",
    "chat = ChatGroq(model='llama-3.1-70b-versatile')"
   ]
  },
  {
   "cell_type": "code",
   "execution_count": 17,
   "metadata": {},
   "outputs": [
    {
     "name": "stdout",
     "output_type": "stream",
     "text": [
      "content='Olá! Eu sou um modelo de linguagem artificial treinado por máquina, projetado para entender e responder a perguntas e tópicos variados. Meu objetivo é fornecer informações precisas e úteis, além de ajudar a facilitar a comunicação em diferentes contextos.\\n\\nEu não sou um ser humano, mas sim um programa de computador que utiliza algoritmos e técnicas de processamento de linguagem natural para gerar respostas. Isso significa que posso fornecer informações 24 horas por dia, 7 dias por semana, sem precisar de descanso ou pausa.\\n\\nPosso ajudar com uma variedade de tópicos, incluindo:\\n\\n* Responder a perguntas gerais\\n* Fornecer informações sobre história, ciência, tecnologia e outros assuntos\\n* Oferecer dicas e conselhos sobre diferentes temas\\n* Traduzir textos de um idioma para outro\\n* Gerar textos criativos, como histórias ou poemas\\n\\nSe tiver alguma pergunta ou precisar de ajuda com algo, sinta-se à vontade para perguntar! Estou aqui para ajudar.' additional_kwargs={} response_metadata={'token_usage': {'completion_tokens': 253, 'prompt_tokens': 44, 'total_tokens': 297, 'completion_time': 1.012, 'prompt_time': 0.008183205, 'queue_time': 0.006275745999999999, 'total_time': 1.020183205}, 'model_name': 'llama-3.1-70b-versatile', 'system_fingerprint': 'fp_b6828be2c9', 'finish_reason': 'stop', 'logprobs': None} id='run-24547541-b4aa-4cfb-9edd-b4650118df23-0' usage_metadata={'input_tokens': 44, 'output_tokens': 253, 'total_tokens': 297}\n"
     ]
    }
   ],
   "source": [
    "resposta = chat.invoke(\"Olá, modelo. quem é você?\")\n",
    "print(resposta)"
   ]
  },
  {
   "cell_type": "markdown",
   "metadata": {},
   "source": [
    "# CRIANDO SEU PRIMEIRO CHATBOT"
   ]
  },
  {
   "cell_type": "code",
   "execution_count": 14,
   "metadata": {},
   "outputs": [
    {
     "data": {
      "text/plain": [
       "ChatPromptTemplate(input_variables=['expressao', 'lingua'], input_types={}, partial_variables={}, messages=[HumanMessagePromptTemplate(prompt=PromptTemplate(input_variables=['expressao', 'lingua'], input_types={}, partial_variables={}, template='Traduza {expressao} para a lingua {lingua}'), additional_kwargs={})])"
      ]
     },
     "execution_count": 14,
     "metadata": {},
     "output_type": "execute_result"
    }
   ],
   "source": [
    "from langchain.prompts import ChatPromptTemplate\n",
    "\n",
    "template = ChatPromptTemplate.from_messages(\n",
    "    [('user', 'Traduza {expressao} para a lingua {lingua}')]\n",
    ")\n",
    "\n",
    "template"
   ]
  },
  {
   "cell_type": "code",
   "execution_count": 15,
   "metadata": {},
   "outputs": [
    {
     "data": {
      "text/plain": [
       "ChatPromptValue(messages=[HumanMessage(content='Traduza Beleza para a lingua inglês', additional_kwargs={}, response_metadata={})])"
      ]
     },
     "execution_count": 15,
     "metadata": {},
     "output_type": "execute_result"
    }
   ],
   "source": [
    "template.invoke({'expressao':'Beleza', 'lingua':'inglês'})"
   ]
  },
  {
   "cell_type": "code",
   "execution_count": 18,
   "metadata": {},
   "outputs": [
    {
     "name": "stdout",
     "output_type": "stream",
     "text": [
      "content='Olá! Sou um modelo de inteligência artificial treinado por máquina, projetado para processar e gerar linguagem natural. Meu objetivo é ajudar e fornecer informações precisas e úteis sobre uma ampla gama de tópicos.\\n\\nPosso ser usado para:\\n\\n* Responder perguntas sobre história, ciência, tecnologia, cultura e muito mais\\n* Traduzir textos de um idioma para outro\\n* Gerar textos criativos, como histórias ou poemas\\n* Oferecer sugestões e dicas sobre vários assuntos\\n* Manter conversas sobre temas de interesse\\n\\nSou um modelo de linguagem grande e avançado, treinado em grandes conjuntos de dados de texto. Isso me permite entender e responder a perguntas complexas de forma precisa e natural.\\n\\nMas é importante lembrar que sou uma máquina, e não sou perfeito. Posso cometer erros ou não entender certas perguntas. Se tiver alguma dúvida ou precisar de ajuda, sinta-se à vontade para perguntar!' additional_kwargs={} response_metadata={'token_usage': {'completion_tokens': 237, 'prompt_tokens': 44, 'total_tokens': 281, 'completion_time': 0.948, 'prompt_time': 0.007108205, 'queue_time': 0.037241355000000004, 'total_time': 0.955108205}, 'model_name': 'llama-3.1-70b-versatile', 'system_fingerprint': 'fp_1c3737e28c', 'finish_reason': 'stop', 'logprobs': None} id='run-306072ce-3507-41ea-865b-e4b885829c45-0' usage_metadata={'input_tokens': 44, 'output_tokens': 237, 'total_tokens': 281}\n"
     ]
    }
   ],
   "source": [
    "import os\n",
    "api_key ='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'\n",
    "\n",
    "os.environ['GROQ_API_KEY'] = api_key\n",
    "\n",
    "from langchain_groq import ChatGroq\n",
    "chat = ChatGroq(model='llama-3.1-70b-versatile')\n",
    "\n",
    "resposta = chat.invoke(\"Olá, modelo. quem é você?\")\n",
    "print(resposta)"
   ]
  },
  {
   "cell_type": "code",
   "execution_count": 19,
   "metadata": {},
   "outputs": [
    {
     "name": "stdout",
     "output_type": "stream",
     "text": [
      "first=ChatPromptTemplate(input_variables=['expressao', 'lingua'], input_types={}, partial_variables={}, messages=[HumanMessagePromptTemplate(prompt=PromptTemplate(input_variables=['expressao', 'lingua'], input_types={}, partial_variables={}, template='Traduza {expressao} para a lingua {lingua}'), additional_kwargs={})]) middle=[] last=ChatGroq(client=<groq.resources.chat.completions.Completions object at 0x0000022DDEBCE420>, async_client=<groq.resources.chat.completions.AsyncCompletions object at 0x0000022DDEBCD040>, model_name='llama-3.1-70b-versatile', model_kwargs={}, groq_api_key=SecretStr('**********'))\n"
     ]
    }
   ],
   "source": [
    "chain = template | chat \n",
    "print(chain)"
   ]
  },
  {
   "cell_type": "code",
   "execution_count": 21,
   "metadata": {},
   "outputs": [
    {
     "name": "stdout",
     "output_type": "stream",
     "text": [
      "content='A tradução de \"Beleza\" para o inglês é \"Beauty\".' additional_kwargs={} response_metadata={'token_usage': {'completion_tokens': 18, 'prompt_tokens': 47, 'total_tokens': 65, 'completion_time': 0.072, 'prompt_time': 0.008327984, 'queue_time': 0.005452505999999999, 'total_time': 0.080327984}, 'model_name': 'llama-3.1-70b-versatile', 'system_fingerprint': 'fp_b6828be2c9', 'finish_reason': 'stop', 'logprobs': None} id='run-046a78ae-387d-400b-a431-abd0ee2230c4-0' usage_metadata={'input_tokens': 47, 'output_tokens': 18, 'total_tokens': 65}\n",
      "A tradução de \"Beleza\" para o inglês é \"Beauty\".\n"
     ]
    }
   ],
   "source": [
    "resposta = chain.invoke({'expressao':'Beleza', 'lingua':'inglês'})\n",
    "print(resposta)\n",
    "print(resposta.content)"
   ]
  },
  {
   "cell_type": "markdown",
   "metadata": {},
   "source": [
    "# definindo comportamento do assistente"
   ]
  },
  {
   "cell_type": "code",
   "execution_count": null,
   "metadata": {},
   "outputs": [],
   "source": []
  },
  {
   "cell_type": "code",
   "execution_count": 24,
   "metadata": {},
   "outputs": [
    {
     "name": "stdout",
     "output_type": "stream",
     "text": [
      "Por que a beleza foi ao psicólogo? Porque estava \"arrasada\"!\n",
      "\n",
      "Mas, sério, \"beleza\" em inglês é \"beauty\".\n"
     ]
    }
   ],
   "source": [
    "template = ChatPromptTemplate.from_messages(\n",
    "    [('system', 'Você é um assistente que semnpre responde com piadas'),\n",
    "    ('user', 'Traduza {expressao} para a lingua {lingua}')]\n",
    "                                           )\n",
    "    \n",
    "chain = template | chat \n",
    "\n",
    "resposta = chain.invoke({'expressao':'Beleza', 'lingua':'inglesa'})\n",
    "\n",
    "print(resposta.content)\n",
    "\n"
   ]
  },
  {
   "cell_type": "markdown",
   "metadata": {},
   "source": [
    "# Lista de perguntas - aula 3"
   ]
  },
  {
   "cell_type": "code",
   "execution_count": 2,
   "metadata": {},
   "outputs": [
    {
     "name": "stdout",
     "output_type": "stream",
     "text": [
      "Bem vindo ao AsimoBot\n",
      "Bot: Olá! Como posso ajudá-lo hoje?\n",
      "Bot: Langchain é um framework de código aberto que permite criar e integrar modelos de linguagem grandes (LLMs) em aplicativos. Ele foi projetado para facilitar a construção de aplicações que utilizam modelos de linguagem avançados, como o GPT-3, BERT e outros.\n",
      "\n",
      "Com o Langchain, os desenvolvedores podem criar aplicações que utilizam modelos de linguagem para realizar tarefas como:\n",
      "\n",
      "* Processamento de linguagem natural (NLP)\n",
      "* Geração de texto\n",
      "* Tradução\n",
      "* Resumo de texto\n",
      "* Análise de sentimento\n",
      "* E muito mais\n",
      "\n",
      "O Langchain fornece uma API simples e fácil de usar para interagir com os modelos de linguagem, permitindo que os desenvolvedores se concentrem em criar aplicações inovadoras sem precisar lidar com os detalhes técnicos da implementação dos modelos.\n",
      "\n",
      "Além disso, o Langchain também fornece recursos como:\n",
      "\n",
      "* Suporte a múltiplos modelos de linguagem\n",
      "* Gerenciamento de contexto e estado\n",
      "* Suporte a múltiplos formatos de entrada e saída\n",
      "* Integração com outras tecnologias, como APIs e bancos de dados\n",
      "\n",
      "Em resumo, o Langchain é uma ferramenta poderosa para criar aplicações que utilizam modelos de linguagem avançados, tornando mais fácil para os desenvolvedores criar soluções inovadoras e eficientes.\n",
      "Muito Obrigado por usar o asimoBot\n",
      "[('user', 'Olá'), ('assistant', 'resposta'), ('user', 'O que é langchain?'), ('assistant', 'resposta')]\n"
     ]
    }
   ],
   "source": [
    "import os\n",
    "api_key ='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'\n",
    "\n",
    "os.environ['GROQ_API_KEY'] = api_key\n",
    "\n",
    "from langchain_groq import ChatGroq\n",
    "from langchain.prompts import ChatPromptTemplate\n",
    "\n",
    "\n",
    "\n",
    "chat = ChatGroq(model='llama-3.1-70b-versatile')\n",
    "\n",
    "def resposta_bot(mensagens):\n",
    "    mensagens_modelo = [('system', 'Você é um assistente amigável chamado Bot')]\n",
    "    mensagens_modelo += mensagens\n",
    "    template = ChatPromptTemplate.from_messages(mensagens_modelo)\n",
    "    chain = template | chat\n",
    "    \n",
    "    return chain.invoke({}).content\n",
    "\n",
    "print(\"Bem vindo ao AsimoBot\")\n",
    "\n",
    "\n",
    "mensagens = []\n",
    "\n",
    "while True:\n",
    "    pergunta = input(\"Usuario: \")\n",
    "    \n",
    "    if (pergunta.lower() == 'x'):\n",
    "        break\n",
    "    mensagens.append(('user', pergunta))\n",
    "    resposta = resposta_bot(mensagens)\n",
    "    mensagens.append(('assistant','resposta'))\n",
    "    print(f'Bot: {resposta}')\n",
    "    \n",
    "print(\"Muito Obrigado por usar o asimoBot\")\n",
    "print(mensagens)\n",
    "    \n",
    "    \n",
    "    \n",
    "    \n",
    "    \n",
    "    \n",
    "    "
   ]
  },
  {
   "cell_type": "markdown",
   "metadata": {},
   "source": [
    "# DADOS EXTERNOS"
   ]
  },
  {
   "cell_type": "code",
   "execution_count": 7,
   "metadata": {},
   "outputs": [
    {
     "name": "stdout",
     "output_type": "stream",
     "text": [
      "[Document(metadata={'source': 'https://asimov.academy/', 'title': 'Home | Asimov Academy', 'description': 'Cursos de programação em Python e Ciência de Dados com ensino baseado fortemente em projetos. Seja membro e tenha acesso ilimitado!', 'language': 'pt-BR'}, page_content='    Home | Asimov Academy    \\n  Ir para o conteúdoasimovTrilhasTrilha Aplicações IA com PythonTrilha Dashboards com PythonTrilha Python OfficeTrilha Visão ComputacionalTrilha Data Science e Machine LearningTrilha Análise e Visualização de DadosTrilha Trading QuantitativoCursosProjetosConteúdos gratuitosCurso Python para iniciantesCurso Python para IACurso Python para DadosBlogTutoriaisPara empresas\\n MenuTrilhasTrilha Aplicações IA com PythonTrilha Dashboards com PythonTrilha Python OfficeTrilha Visão ComputacionalTrilha Data Science e Machine LearningTrilha Análise e Visualização de DadosTrilha Trading QuantitativoCursosProjetosConteúdos gratuitosCurso Python para iniciantesCurso Python para IACurso Python para DadosBlogTutoriaisPara empresas\\n\\n\\n\\n \\nEntrar\\n\\n\\n\\n\\nMatricule-se\\n\\nasimov\\n MenuTrilhasTrilha Aplicações IA com PythonTrilha Dashboards Interativos com PythonTrilha Python OfficeTrilha Visão ComputacionalTrilha Data Science e Machine LearningTrilha Análise e Visualização de DadosTrilha Trading QuantitativoCursosProjetosConteúdos gratuitosPython para iniciantesPython para IAPython para DadosBlogTutoriaisPara empresasEntrar\\n\\n\\nMatricule-se\\n\\nA maior escola de programação em PythonTransforme Python em sua principal ferramenta de trabalho. Cursos sobre Inteligência Artificial, web apps, análise de dados e automações de sistemas.\\n\\n\\nMatricule-se\\n\\nVocê pode construir qualquer coisa quando sabe programar.Assista ao vídeo e conheça a escola:Tudo que você precisa para tornar o Python sua principal ferramenta de trabalho.\\n+10 mil alunosJunte-se a uma comunidade com milhares de estudantes.\\n+230h aulasTudo que você precisa para se aprofundar na linguagem.\\n+40 cursosAcesso imediato a todos nossos conteúdos e cursos.\\n+70 projetosAprenda na prática e coloque projetos reais no seu portfólio.A Asimov possui dezenas de cursos e projetos para você dominar a maior linguagem de programação do mundo.Assista o vídeo:\\n\\nDomine as principais bibliotecas e frameworks\\n\\nEstudo objetivo baseado em trilhasNa Asimov, os cursos são organizados por Trilhas de conhecimento.Defina a habilidade que você quer desenvolver e estude apenas o necessário para atingi-la.\\n\\n \\n\\nTrilhas de Análise de Dados\\t\\t\\t\\t\\t\\t\\nDashboards Interativos com Python\\n\\nData Science & Machine Learning\\n\\nAnálise de dados com Python\\n\\nTrading Quantitativo\\n\\n\\n \\n\\nTrilhas de Automações de Tarefas\\t\\t\\t\\t\\t\\t\\nPython Office\\n\\nVisão Computacional com Python\\n\\n\\n \\n\\nTrilhas de Construção de Sistemas\\t\\t\\t\\t\\t\\t\\nAplicações IA com Python\\n\\nAplicativos Web com Python\\n\\n\\n\\n\\n \\n\\nAPRENDENDO PYTHON\\t\\t\\t\\t\\t\\t\\nAprenda com profundidade todos os aspectos da linguagem Python.\\n22h\\n\\n \\n\\nDATA SCIENCE & MACHINE LEARNING\\t\\t\\t\\t\\t\\t\\nDomine análise complexas, modelos de ML e predições com Python.\\n29h\\n\\n \\n\\nANÁLISE E VISUALIZAÇÃO\\t\\t\\t\\t\\t\\t\\nTorne o Python em sua principal ferramenta para análise de dados.\\n24h\\n\\n \\n\\nTRADING QUANTITATIVO\\t\\t\\t\\t\\t\\t\\nDesenvolva estratégias de investimento utilizando a Análise Quantitativa.\\n24h\\n\\n \\n\\nPYTHON OFFICE\\t\\t\\t\\t\\t\\t\\nAprenda a utilizar ferramentas do Python para automatizar qualquer tarefa.\\n\\n47h\\n\\n\\n \\n\\nAPLICAÇÕES IA COM PYTHON\\t\\t\\t\\t\\t\\t\\nCrie aplicações de Inteligência Artificial 100% personalizados.\\n49h\\n\\n \\n\\nVISÃO COMPUTACIONAL\\t\\t\\t\\t\\t\\t\\nConstrua sistemas inteligentes de análise de imagens e vídeo.\\n24h\\n\\n \\n\\nDASHBOARDS COM PYTHON\\t\\t\\t\\t\\t\\t\\nAprenda a criar Dashboards e Webapps profissionais 100% em Python.\\n39h\\n\\nO que você encontra na Asimov?\\nPlataforma de ensinoVocê terá acesso a uma plataforma personalizada e fácil de usar, com acesso completo a todos os conteúdos da Asimov.Projetos exclusivosAprenda o passo a passo para construir todos os projetos e aplicar seus conhecimentos na vida real.\\nCursos organizados por TrilhasSeu estudo é formatado em sequências de cursos contendo todo o pré-requisito para você alcançar seus objetivos.\\nCertificado de conclusãoCada curso e trilha da plataforma lhe garante um certificado de conclusão.\\nComunidade de alunosO lugar ideal para você fazer networking, conhecer outros alunos da Asimov e até receber oportunidades de trabalho.\\n\\n\\n\\n\\nCursos em destaqueUma ampla base de cursos para você dominar programação, automatização de tarefas e análise de dados.\\n\\n\\nExplore outros cursos\\n\\n\\n\\n\\n\\n\\nProjetos construídos passo a passoMais de 60 projetos autorais exclusivos para você colocar em seu portifólio.\\n\\n\\nConheça nossa base completa\\n\\nCom quem você aprende?Tudo que você precisa para evoluir está aqui.Assinando a Asimov você tem acesso a uma base completa de cursos com as mais variadas aplicações.\\n\\n \\n\\nInteligência Artificial\\t\\t\\t\\t\\t\\t\\n\\n \\n\\nLinguagem Python\\t\\t\\t\\t\\t\\t\\n\\n \\n\\nTratamento de dados\\t\\t\\t\\t\\t\\t\\n\\n \\n\\nVisualização de dados\\t\\t\\t\\t\\t\\t\\n\\n \\n\\nConstrução de Dashboards\\t\\t\\t\\t\\t\\t\\n\\n \\n\\nAutomações de tarefas\\t\\t\\t\\t\\t\\t\\n\\n \\n\\nMatemática para Ciência de dados\\t\\t\\t\\t\\t\\t\\n\\n \\n\\nData Science & Machine Learning\\t\\t\\t\\t\\t\\t\\n\\n \\n\\nLógica de programação\\t\\t\\t\\t\\t\\t\\n\\n \\n\\nAplicativos Web\\t\\t\\t\\t\\t\\t\\n\\n \\n\\nWebscraping\\t\\t\\t\\t\\t\\t\\n\\n \\n\\nComputer Vision\\t\\t\\t\\t\\t\\tQue projetos nossos alunos desenvolvem?Confira os projetos desenvolvidos por nossos alunos utilizando o que aprendem na plataforma.\\n\\n\\n\\n\\nConheça outras histórias\\n\\nAcesso Vitalício\\n\\n \\nAcesso para SEMPRE\\n\\n \\nTodos os Cursos e Trilhas\\n\\n \\nTodos os projetos\\n\\n \\nSuporte com professores\\n\\n \\nAcesso à Comunidade12x R$ 335,90R$ 3.365,70 à vista com desconto\\n\\n\\nMatricule-se\\n\\nAcesso Anual\\n\\n \\nAcesso por 1 ano\\n\\n \\nTodos os Cursos e Trilhas\\n\\n \\nTodos os projetos\\n\\n \\nSuporte com professores\\n\\n \\nAcesso à Comunidade12x R$ 95,90R$ 960,90 à vista com desconto\\n\\n\\nMatricule-se\\n\\nDúvidas frequentes\\n\\n\\n\\n\\n\\n\\nNão sei se os cursos são para mim!Os cursos da Asimov são destinados a todos aqueles que desejam:Aprender a programar em Python, independentemente do nível de conhecimento prévio;Criar sistemas variados, como dashboards interativos, aplicativos web e aplicações com IA;Realizar análise e visualização de dados utilizando programação;Automatizar tarefas repetitivas para aumentar a eficiência.\\n\\n\\n\\n\\nNunca programei em Python. Tem algum pré-requisito?Nossos cursos são projetados para alunos de todos os níveis, incluindo iniciantes completos. Tudo o que você precisa é de um computador e determinação. Nossas formações abrangentes foram cuidadosamente elaboradas para orientar seu desenvolvimento profissional, desde os conceitos básicos até as técnicas avançadas mais demandadas no mercado atual.\\xa0\\n\\n\\n\\n\\nTerei acesso total à plataforma?Sim, uma vez que você tenha se matriculado em um de nossos planos, poderá desfrutar de todos os cursos, trilhas e projetos exclusivos que oferecemos. Além disso, você terá acesso à nossa comunidade de alunos, suporte direto dos professores para esclarecer dúvidas, certificados de conclusão de curso e muito mais. Estamos comprometidos em fornecer uma experiência completa e enriquecedora para todos os nossos alunos.\\xa0\\n\\n\\n\\n\\nComo vejo a grade curricular e a carga horária de cada curso ou trilha?As informações relacionadas ao conteúdo e à carga horária estão disponíveis nas seguintes páginas:Cursos da AsimovTrilhas da Asimov\\n\\n\\n\\n\\nQual o tempo de acesso à plataforma?O tempo de acesso irá depender do plano contratado. Atualmente, temos duas possibilidades de inscrição:Acesso Anual: acesso por 1 ano.Acesso Vitalício: acesso para sempre.\\n\\n\\n\\n\\nA renovação da Assinatura é automática?Sim, a renovação da Assinatura acontece de forma automática. Caso você não queira fazer a renovação, basta alterar na plataforma ou solicitar a alteração para o time de atendimento via e-mail contato@asimov.academy.Importante: isso vale apenas para a Assinatura, já que o produto Acesso Vitalício não é uma assinatura e sim de pagamento único.\\n\\n\\n\\n\\nComo funciona a garantia de 7 dias e reembolso?Segundo o artigo 49 do Código de Defesa do Consumidor, o consumidor poderá desistir de sua compra no período de até 07 dias corridos. Estando dentro do prazo, basta solicitar para nossa equipe, via WhatsApp ou e-mail, e você receberá 100% do seu investimento de volta.Em caso de renovação da assinatura, a garantia de 7 dias também é renovada. Então caso se arrependa dentro do prazo de 7 dias, você pode solicitar o cancelamento com direito ao reembolso da renovação que foi cobrada.\\n\\n\\n\\n\\nComo posso pagar minha assinatura?Para ter acesso a valores e formas de pagamento, clique aqui.Sua inscrição pode ser paga via cartão de crédito ou boleto.\\n\\n\\n\\n \\n\\nASIMOV\\n\\n\\nYoutube\\n \\n\\n\\n\\nInstagram\\n \\n\\n\\n\\nWhatsapp\\n \\n\\n\\n\\nGithub\\n \\nTodos os direitos reservados.A plataforma\\nLista de cursos\\n\\nBlog\\n\\n\\n \\nTutoriais\\nSobre\\nManifesto Asimov\\n\\nTrabalhe Conosco\\n\\nPara empresas\\n\\nPolítica de privacidade\\n\\nTermos de uso\\nSuporte\\nContato\\n         \\n\\n\\n\\n\\n')]\n"
     ]
    }
   ],
   "source": [
    "from langchain_community.document_loaders import WebBaseLoader\n",
    "\n",
    "loader = WebBaseLoader(\"https://asimov.academy/\")\n",
    "\n",
    "lista_documentos = loader.load()\n",
    "print(lista_documentos)\n"
   ]
  },
  {
   "cell_type": "code",
   "execution_count": null,
   "metadata": {},
   "outputs": [],
   "source": [
    "print(lista_documentos[0].page_content)"
   ]
  },
  {
   "cell_type": "code",
   "execution_count": null,
   "metadata": {},
   "outputs": [],
   "source": [
    "import os\n",
    "api_key ='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'\n",
    "\n",
    "os.environ['GROQ_API_KEY'] = api_key\n",
    "\n",
    "from langchain_groq import ChatGroq\n",
    "from langchain.prompts import ChatPromptTemplate\n",
    "\n",
    "\n",
    "\n",
    "chat = ChatGroq(model='llama-3.1-70b-versatile')"
   ]
  },
  {
   "cell_type": "code",
   "execution_count": null,
   "metadata": {},
   "outputs": [],
   "source": [
    "documento = ''\n",
    "\n",
    "for doc in lista_documentos:\n",
    "    documento += doc.page_content\n",
    "    \n",
    "print(documento)"
   ]
  },
  {
   "cell_type": "code",
   "execution_count": 11,
   "metadata": {},
   "outputs": [],
   "source": [
    "import os\n",
    "api_key ='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'\n",
    "\n",
    "os.environ['GROQ_API_KEY'] = api_key\n",
    "\n",
    "from langchain_groq import ChatGroq\n",
    "from langchain.prompts import ChatPromptTemplate"
   ]
  },
  {
   "cell_type": "code",
   "execution_count": 12,
   "metadata": {},
   "outputs": [],
   "source": [
    "template = ChatPromptTemplate.from_messages([\n",
    " ('system','Voce é uma assistente amigável e tem acesso as seguintes informações: {documentos} '),\n",
    " ('user','{input}')\n",
    " \n",
    "]\n",
    ")\n",
    "\n",
    "chain = template | chat \n",
    "resposta = chain.invoke({'documentos':documento,'input':'Quais as trilhas disponíveis na Asimov?'})"
   ]
  },
  {
   "cell_type": "code",
   "execution_count": 13,
   "metadata": {},
   "outputs": [
    {
     "name": "stdout",
     "output_type": "stream",
     "text": [
      "De acordo com as informações disponíveis, a Asimov oferece as seguintes trilhas:\n",
      "\n",
      "1. Trilha Aplicações IA com Python\n",
      "2. Trilha Dashboards Interativos com Python\n",
      "3. Trilha Python Office\n",
      "4. Trilha Visão Computacional\n",
      "5. Trilha Data Science e Machine Learning\n",
      "6. Trilha Análise e Visualização de Dados\n",
      "7. Trilha Trading Quantitativo\n",
      "\n",
      "Essas trilhas são organizadas por áreas de conhecimento e habilidades específicas, permitindo que os alunos desenvolvam habilidades práticas e aplicáveis em diferentes áreas da tecnologia e da análise de dados.\n"
     ]
    }
   ],
   "source": [
    "print(resposta.content)"
   ]
  },
  {
   "cell_type": "markdown",
   "metadata": {},
   "source": [
    "# ACESSANDO VIDEOS DO YOUTUBE E PDFS"
   ]
  },
  {
   "cell_type": "code",
   "execution_count": null,
   "metadata": {},
   "outputs": [],
   "source": [
    "!pip install langchain==0.3.0\n",
    "!pip install langchain-groq==0.2.9\n",
    "!pip install langchain-community==0.3.0\n",
    "!pip install youtube_transcript_api==0.6.2\n",
    "!pip install pypdf==5.0.0"
   ]
  },
  {
   "cell_type": "code",
   "execution_count": null,
   "metadata": {},
   "outputs": [],
   "source": [
    "from langchain_community.document_loaders import WebBaseLoader\n",
    "\n",
    "loader = WebBaseLoader(\"https://asimov.academy/\")\n",
    "\n",
    "lista_documentos = loader.load()\n",
    "print(lista_documentos)"
   ]
  },
  {
   "cell_type": "code",
   "execution_count": 17,
   "metadata": {},
   "outputs": [],
   "source": [
    "import os\n",
    "api_key ='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'\n",
    "\n",
    "os.environ['GROQ_API_KEY'] = api_key\n",
    "\n",
    "from langchain_groq import ChatGroq\n",
    "from langchain.prompts import ChatPromptTemplate\n",
    "\n",
    "\n",
    "\n",
    "chat = ChatGroq(model='llama-3.1-70b-versatile')"
   ]
  },
  {
   "cell_type": "code",
   "execution_count": null,
   "metadata": {},
   "outputs": [],
   "source": [
    "documento = ''\n",
    "\n",
    "for doc in lista_documentos:\n",
    "    documento += doc.page_content\n",
    "    \n",
    "print(documento)"
   ]
  },
  {
   "cell_type": "code",
   "execution_count": null,
   "metadata": {},
   "outputs": [],
   "source": [
    "import os\n",
    "api_key ='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'\n",
    "\n",
    "os.environ['GROQ_API_KEY'] = api_key\n",
    "\n",
    "from langchain_groq import ChatGroq\n",
    "from langchain.prompts import ChatPromptTemplate"
   ]
  },
  {
   "cell_type": "code",
   "execution_count": null,
   "metadata": {},
   "outputs": [],
   "source": [
    "documento = ''\n",
    "\n",
    "for doc in lista_documentos:\n",
    "    documento += doc.page_content\n",
    "    \n",
    "print(documento)"
   ]
  },
  {
   "cell_type": "code",
   "execution_count": 15,
   "metadata": {},
   "outputs": [],
   "source": [
    "template = ChatPromptTemplate.from_messages([\n",
    " ('system','Voce é uma assistente amigável e tem acesso as seguintes informações: {documentos} '),\n",
    " ('user','{input}')\n",
    " \n",
    "]\n",
    ")\n",
    "\n",
    "chain = template | chat \n",
    "resposta = chain.invoke({'documentos':documento,'input':'Quais as trilhas disponíveis na Asimov?'})"
   ]
  },
  {
   "cell_type": "code",
   "execution_count": 16,
   "metadata": {},
   "outputs": [
    {
     "name": "stdout",
     "output_type": "stream",
     "text": [
      "De acordo com as informações disponíveis, as trilhas disponíveis na Asimov são:\n",
      "\n",
      "1. Trilha Aplicações IA com Python\n",
      "2. Trilha Dashboards Interativos com Python\n",
      "3. Trilha Python Office\n",
      "4. Trilha Visão Computacional com Python\n",
      "5. Trilha Data Science e Machine Learning\n",
      "6. Trilha Análise e Visualização de Dados\n",
      "7. Trilha Trading Quantitativo\n",
      "\n",
      "Essas trilhas são organizadas em categorias, incluindo:\n",
      "\n",
      "* Trilhas de Análise de Dados: Dashboards Interativos com Python, Data Science & Machine Learning, Análise de dados com Python, Trading Quantitativo\n",
      "* Trilhas de Automações de Tarefas: Python Office, Visão Computacional com Python\n",
      "* Trilhas de Construção de Sistemas: Aplicações IA com Python, Aplicativos Web com Python\n"
     ]
    }
   ],
   "source": [
    "print(resposta.content)"
   ]
  },
  {
   "cell_type": "markdown",
   "metadata": {},
   "source": [
    "# Acessando o Youtube"
   ]
  },
  {
   "cell_type": "code",
   "execution_count": 18,
   "metadata": {},
   "outputs": [
    {
     "name": "stdout",
     "output_type": "stream",
     "text": [
      "Esse é o A1 o super computador que construímos aqui nas imóvel com apenas um objetivo em mente rodar modelos de inteligência artificial com ele a gente consegue não só rodar llms a uma velocidade impressionante mas também testar modelos multimodais desenvolver projetos de visão computacional modelos de geração de imagem modelos de geração de vídeo transcrição de áudios e muitos dos projetos que vocês já viram ou vão seguir vendo no nosso canal Aqui foram e vão ser feitos nesse cara aqui e até o final desse vídeo eu vou testar com vocês o quão mais rápido é esse computador que uma máquina comum e também responder a importante pergunta que pode estar passando pela tua cabeça Você também precisa de um desses para trabalhar com ia e que peças Esse cara tem para começar a gente tem essa gabinete da Lian Lee lancool 3 três fãs que suga um ar por aqui um fuck joga para fora e muito espaço pras peças dele aqui dentro a gente tá utilizando o ryzen 9 7950x que é um processador que tem 16 núcleos e 32 threads top de linha para suportar tudo isso a gente usou uma Asus Prime x670 que é uma placa mãe que tem soquete a M5 compatível com esse processador que eu acabei de citar mas principalmente por ter suporte a duas placas de vídeo que é o que a gente colocou aqui embaixo Além do mais a gente tem aqui quatro memórias R ddr5 de 32 GB cada da Lancer um water cooler aqui em cima da kuger é o posidon Elite uma fonte de 1500 w aqui embaixo ele também tem TR ssds de 1 ta cada m2 um HD daqueles antigos mesmo que eu encontrei per perido aqui de 4 ta não são os principais só para ver Car e agora a parte mais importante desse setup duas placas de vídeo rtx 3090 de 24 GB de vram que por sorte a gente encontrou usada por R 4500 é esse cara aqui voa agora vamos levar esse cara pra casa é naquela salinha lá do canto que ele vai morar como vocês podem ver vocês estão chegando no porão das Imóveis aqui a gente tem uma série de coisas de outros computadores e outros projetos notebooks mas o que Import porta de fato tá aqui embaixo esse nosso computador tem acesso a um nobreak com internet dedicada refrigeração ligada 24 por7 tudo que ele precisa para não parar de trabalhar computador [Música] pesado eu sei galera eu podia ter uma cadeira aqui só que reparem o incrível sistema operacional que a gente colocou nesse super computador M server 24.04 é galera só dá para controlar esse computador aqui com comandos de terminal e para quem estava esperando ver alguma gameplay de joguinho sinto muito não vai acontecer mas tudo isso porque a gente não vai controlar esse computador daqui na verdade é daqui que vamos utilizar ele e pronto eu já posso me conectar com a máquina através de uma conexão SSH e acreditem ou não eu estou dentro dela aqui olha as duas placas de vídeo que eu comentei e o nosso processador de 32 threads a parte mais legal é que o posso programar nesse cara de qualquer dispositivo inclusive de um iPad seguindo o mesmo processo a gente fez isso para que todos os membros da zimov possam se conectar naquela máquina e testar novos modelos de Inteligência Artificial sempre que forem lançados para trazer para vocês aqui OK mas quão poderoso de fato esse computador e para medir isso eu preparei aqui dois testes com modelos dei entre o A1 nosso super computador e esse outro incrível computador aqui que é o meu computador Diário de trabalho o MacBook Pro com processador M1 Max 32 Gb de Ram Esse é um dos computadores mais potentes da Apple e para vocês terem uma ideia Ele novo tá saindo aí por volta de R 27.000 só que por sorte eu consegui encontrar ele alguns meses atrás pagando menos de R 1.000 no usado e para medir o desempenho deles em a eu vou fazer dois testes o primeiro deles o mais clássico eu vou medir quantos tokens por segundo cada um desses computadores consegue me entregar rodando o mesmo modelo a mesma llm local e no segundo teste eu vou medir quanto tempo eles levam para fazer uma transcrição de um podcast que tem 1 hora me usando o modelo Whisper x começando com llm local eu tô utilizando aqui o olama que a gente já ensinou em outro vídeo do canal a Como configurar no teu próprio computador eu vou rodar o modelo lama 3.1 de 8 bilhões de parâmetros eu vou utilizar uma tag verbals que vai me dar algumas estatísticas para poder avaliar esse teste começando pelo MacBook Pro e aqui eu vou passar um prompt escreve o jogo da cobrin em Python que eu sei que ele leva bastante tempo para rodar e essa aqui é velocidade que eu tô tendo nesse que é um dos melhores processor adores da Apple ao todo ele gerou para mim por volta de 17 tokens por segundo e agora rodando o mesmo modelo com o mesmo pron nesse nosso super computador Olha a diferença de velocidade no A1 a geração de tokens ficou por volta de 115 tokens por segundo comparado com 17 tokens por segundo no Mac e a avaliação de prompts ficou em 1200 tokens por segundo contra 60 uma diferença aqui de 20 vezes e aqui de quase 10 vezes e já pro segundo teste eu desenvolvi um script para fazer a extração de texto de um podcast de mais de 1 hora e meia usando um modelo pequeno aqui do Whisper x e no A1 ele levou por volta de 70 segundos contra 110 segundos do Mac uma performance aí quase 15 vezes mais rápida pro nosso super computador mas então por que que um processador tão potente como o M1 Max apanhou tão feio desse nosso super computador e a resposta como eu comentei anteriormente tá nas placas de vídeo isso acontece porque quando a gente tá falando de modelos de Inteligência Artificial especialmente os dependentes de redes neurais a performance é diretamente afetada pela existência ou não de um hardware dedicado com muita verran são os casos das placas de vídeo como eu imagino que você já saibam placa de vídeo é um hardware muito muito muito bom em conseguir fazer operações matemáticas em paralelo é por isso que eles conseguem fazer processamento de gráficos muito potentes e a partir do desenvolvimento da cuda pela NVIDIA os pesquisadores dei também viram que poderiam utilizar ela para poder otimizar os seus modelos e a variável mais exaltada nos fóruns gringos que eu vejo quando o assunto é montar computador para ia é quanto de memória tu tem na tua placa de vídeo ou vram Mas vram significa que tu vai conseguir rodar modelos cada vez maiores inteiramente dentro da placa e não deixar com que nenhuma parte do cálculo precise ser feita pela CPU ou pela memória RAM tradicional que são muito mais lentas vocês podem ter visto aqui nesse teste e quem vai determinar se a tua placa vai ou não conseguir carregar um modelo de ai inteiramente dentro dela são duas variáveis a quantidade de parâmetros do modelo que que tu tá escolhendo e a quantização desse cara como eu imagino que você já Saiba quanto mais parâmetros um modelo tem melhor a versão do liama 3.1 de 70 bilhões de parâmetros é muito melhor que a versão de 8 bilhões de parâmetros Mas é claro H uma diferença de performance modelos pequenos não costumam passar aí de 12 bilhões de parâmetros modelos médios podem chegar até 70 96 bilhões de parâmetros e acredita-se que os maiores modelos de mundo que são os proprietários tanto o chat GPT 40 quanto o cloud 3.5 sonet podem passar da casa do trilhão de parâmetros e sabendo a quantidade de parâmetros do teu modelo segundo passo é entender a quantização que tu vai utilizar dele a quantização representa o quão comprimido os parâmetros do teu modelo tão um modelo quando é recém treinado e não é comprimido costuma levar o nome de f16 que ele possui precisão float 16 em todos os seus dados e se você pegar esse modelo e começar a ignorar Algumas casas decimais lá no final vai perceber que pode reduzir o tamanho Total dele em sacrifício é claro de performance o primeiro nível de quantização que a gente chama é chamado de q8 na qual algumas poucas casas decimais foram cortadas e o modelo pode chegar até metade do tamanho do modelo original e a gente pode ir avançando de q6 q4 até Q2 quando o modelo já se torna muito rápido mas ao mesmo tempo completamente desfigurado começa a alucinar demais em geral o modelo entre q4 e q6 costuma ter um bom equilíbrio entre precisão e tamanho e de posse da quantidade de parâmetros da quantização tu tem tudo que vai precisar para conseguir calcular se o teu computador suporta ou não certo modelo a regra de bols que eu utilizo é um modelo f16 vai demandar duas vezes a quantidade de parâmetros em GB de vram ou seja o Lhama 3.1 de 8 bilhões de parâmetros f16 precisa de um computador com 16 GB de vram o lama 3.1 q8 esse valor cai pela metade se usarmos um q4 isso cai para 1/4 essa é a lógica que você tem que ter em mente quando tiver trabalhando com llms locais e essa é inclusive também uma das razões de nós termos colocado ali duas rtx 3090 porque esse o nosso computador tem acesso a 48 Gb de vram e consegue rodar modelos bem grandes como Lhama 3.1 de 70 bilhões de parâmetros e uma segunda vantagem é que a gente consegue usar uma biblioteca como a LM Deploy e transformar ele em um servidor de inferência porque ele vai conseguir rodar múltiplos modelos em Paralelos então alguns tipos de aplicações se beneficiam de poder acessar os modelos ao mesmo tempo por exemplo um dos projetos que a gente desenvolveu aqui no canal envolvia utilizar um modelo de linguagem para poder fazer a categorização de transações financeiras eu pegava a descrição de uma transação e perguntava para ele qual era a categoria disso e como as transações são independentes entre si Se eu conseguisse rodar tudo isso aqui em paralelo eu teria uma resposta muito mais rápida usar um servidor assim para análise de dados e para PIP learnings de limpeza por exemplo é algo muito eficiente mas agora vem a pergunta mais importante você precisa de um computador como esse e sendo bem sincero eu acho que muito muito muito provavelmente não pela nossa experiência a gente tem visto que mais de 95% dos projetos vão ser melhores desenvolvidos quando utilizarem as api das bigtec porque estes ainda são os melhores modelos ji shat GPT 4 o Gini 1.5 pro Cloud 3.5 sonet vão ter desempenhos muito melhores a uma velocidade bem parecida do que tu conseguiria com modelos locais como liama 3.1 ou até mesmo liama de 70 bilhões de parâmetros E essas apis também te dão acesso a outra variedade de modelos tanto de transcrição geração de áudio criação de imagens ou mesmo análise de vídeos então se você não tiver um objetivo muito claro como é o nosso caso aqui eu diria que provavelmente não não Invista num computador desse até que tem Total certeza para quem que eu indicaria então em primeiro lugar empresas que querem garantir a segurança dos teus dados e não querem correr risco de mandar os dados para fora mas ainda assim querem desenvolver projetos utilizando llms locais então com certeza investir uma workstation como essa vai fazer todo sentido e tu consegue garantir que todos os membros da equipe utilizem apenas um modelo e segundo mundo pesquisadores como nós que querem ficar explorando os modelos diferentes que são lançados no hug and Face todos os dias poder gerar conteúdo ou explorar as possibilidades em terceiro eu diria empreendedores que estão atrás de construir aplicações próprias recombinando esses modelos mas ainda querem construir alguma coisa proprietária vocês vão precisar de um setup como esse porque grande parte dos modelos que estão aí não vão estar disponíveis por api Mas é claro existem até algumas alternativas que mesmo estes casos também não precisariam investir num PC como ess vocês podem alugar máquinas tanto no Google Cloud quanto WS com placas de vídeo dedicadas com a vantagem de poder pagar apenas por hora de consumo e desligar quando não tiverem utilizando ou utilizar serviços de aluguel de placas de vídeo como por exemplo é o cas da vest que te permite alugar setups com du até oit placas de vídeos mais poentes até do que eu tenho utilizado aqui então é isso espero ter te ajudado um Pou nesse novo universo pouco conhecido de setups para sistemas com a e vejo vocês no próximo vídeo Y\n"
     ]
    }
   ],
   "source": [
    "from langchain_community.document_loaders import YoutubeLoader\n",
    "\n",
    "url = 'https://www.youtube.com/watch?v=5H9J38euMio'\n",
    "\n",
    "loader = YoutubeLoader.from_youtube_url(\n",
    "    url,\n",
    "    language=['pt'])\n",
    "\n",
    "lista_documentos = loader.load()\n",
    "\n",
    "document=''\n",
    "\n",
    "for doc in lista_documentos:\n",
    "    document += doc.page_content\n",
    "    \n",
    "print(document)\n",
    "\n"
   ]
  },
  {
   "cell_type": "code",
   "execution_count": null,
   "metadata": {},
   "outputs": [],
   "source": [
    "import os\n",
    "api_key ='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'\n",
    "\n",
    "os.environ['GROQ_API_KEY'] = api_key\n",
    "\n",
    "from langchain_groq import ChatGroq\n",
    "from langchain.prompts import ChatPromptTemplate\n",
    "\n",
    "\n",
    "\n",
    "chat = ChatGroq(model='llama-3.1-70b-versatile')"
   ]
  },
  {
   "cell_type": "code",
   "execution_count": 20,
   "metadata": {},
   "outputs": [
    {
     "name": "stdout",
     "output_type": "stream",
     "text": [
      "Aprender a programar pode ser um desafio, mas não é impossível. Com dedicação, prática e os recursos certos, qualquer pessoa pode aprender a programar.\n",
      "\n",
      "Aqui estão algumas razões pelas quais aprender a programar pode ser considerado difícil:\n",
      "\n",
      "1. **Complexidade**: A programação envolve conceitos complexos, como algoritmos, estruturas de dados e linguagens de programação, que podem ser difíceis de entender e dominar.\n",
      "2. **Lógica**: A programação exige uma abordagem lógica e sistemática para resolver problemas, o que pode ser uma mudança para aqueles que não estão acostumados a pensar de maneira lógica.\n",
      "3. **Prática**: A programação é uma habilidade que requer prática constante para se aperfeiçoar. É necessário escrever código regularmente para desenvolver habilidades e confiança.\n",
      "4. **Erros**: A programação envolve erros e bugs, que podem ser frustrantes e difíceis de resolver.\n",
      "\n",
      "No entanto, há também muitas razões pelas quais aprender a programar pode ser considerado fácil:\n",
      "\n",
      "1. **Recursos**: Existem muitos recursos disponíveis para aprender a programar, incluindo cursos online, tutoriais, livros e comunidades de programadores.\n",
      "2. **Linguagens de programação**: Existem muitas linguagens de programação diferentes, cada uma com sua própria sintaxe e estrutura. Isso significa que você pode escolher a linguagem que melhor se adapta às suas necessidades e habilidades.\n",
      "3. **Comunidade**: A comunidade de programadores é muito ativa e disposta a ajudar. Existem muitos fóruns, grupos e redes sociais onde você pode obter ajuda e apoio.\n",
      "4. **Ferramentas**: Existem muitas ferramentas e software disponíveis para ajudar a aprender a programar, incluindo editores de código, IDEs (Ambientes de Desenvolvimento Integrado) e simuladores.\n",
      "\n",
      "Para aprender a programar de forma eficaz, é importante:\n",
      "\n",
      "1. **Começar com os conceitos básicos**: Entenda os conceitos fundamentais da programação, como variáveis, loops e condicionais.\n",
      "2. **Praticar regularmente**: Escreva código regularmente para desenvolver habilidades e confiança.\n",
      "3. **Usar recursos**: Utilize recursos como cursos online, tutoriais e livros para aprender novas habilidades e conceitos.\n",
      "4. **Participar da comunidade**: Junte-se a comunidades de programadores para obter ajuda e apoio.\n",
      "5. **Ser paciente**: Aprender a programar leva tempo e prática. Não se desanime se você não entender algo no início.\n",
      "\n",
      "Lembre-se de que aprender a programar é um processo contínuo. Com dedicação e prática, você pode se tornar um programador habilidoso e alcançar seus objetivos.\n"
     ]
    }
   ],
   "source": [
    "template = ChatPromptTemplate.from_messages(\n",
    "    [\n",
    "        ('system','Você é um modelo amigável que possui as seguintes informações para formular uma resposta: {informacoes}'),\n",
    "        ('user','{input}')\n",
    "    ]\n",
    ")\n",
    "\n",
    "chain_youtube = template|chat \n",
    "\n",
    "resposta = chain_youtube.invoke({'informacoes':document,'input':'Aprender a programar é difícil?'})\n",
    "\n",
    "print(resposta.content)"
   ]
  },
  {
   "cell_type": "markdown",
   "metadata": {},
   "source": [
    "# CRIANDO O ROBO"
   ]
  },
  {
   "cell_type": "code",
   "execution_count": 23,
   "metadata": {},
   "outputs": [
    {
     "name": "stdout",
     "output_type": "stream",
     "text": [
      "Requirement already satisfied: langchain==0.3.0 in c:\\users\\luiz\\appdata\\local\\programs\\python\\python312\\lib\\site-packages (0.3.0)\n",
      "Requirement already satisfied: PyYAML>=5.3 in c:\\users\\luiz\\appdata\\local\\programs\\python\\python312\\lib\\site-packages (from langchain==0.3.0) (6.0.2)\n",
      "Requirement already satisfied: SQLAlchemy<3,>=1.4 in c:\\users\\luiz\\appdata\\local\\programs\\python\\python312\\lib\\site-packages (from langchain==0.3.0) (2.0.36)\n",
      "Requirement already satisfied: aiohttp<4.0.0,>=3.8.3 in c:\\users\\luiz\\appdata\\local\\programs\\python\\python312\\lib\\site-packages (from langchain==0.3.0) (3.11.9)\n",
      "Requirement already satisfied: langchain-core<0.4.0,>=0.3.0 in c:\\users\\luiz\\appdata\\local\\programs\\python\\python312\\lib\\site-packages (from langchain==0.3.0) (0.3.21)\n",
      "Requirement already satisfied: langchain-text-splitters<0.4.0,>=0.3.0 in c:\\users\\luiz\\appdata\\local\\programs\\python\\python312\\lib\\site-packages (from langchain==0.3.0) (0.3.2)\n",
      "Requirement already satisfied: langsmith<0.2.0,>=0.1.17 in c:\\users\\luiz\\appdata\\local\\programs\\python\\python312\\lib\\site-packages (from langchain==0.3.0) (0.1.147)\n",
      "Requirement already satisfied: numpy<2.0.0,>=1.26.0 in c:\\users\\luiz\\appdata\\local\\programs\\python\\python312\\lib\\site-packages (from langchain==0.3.0) (1.26.4)\n",
      "Requirement already satisfied: pydantic<3.0.0,>=2.7.4 in c:\\users\\luiz\\appdata\\local\\programs\\python\\python312\\lib\\site-packages (from langchain==0.3.0) (2.9.2)\n",
      "Requirement already satisfied: requests<3,>=2 in c:\\users\\luiz\\appdata\\local\\programs\\python\\python312\\lib\\site-packages (from langchain==0.3.0) (2.32.3)\n",
      "Requirement already satisfied: tenacity!=8.4.0,<9.0.0,>=8.1.0 in c:\\users\\luiz\\appdata\\local\\programs\\python\\python312\\lib\\site-packages (from langchain==0.3.0) (8.5.0)\n",
      "Requirement already satisfied: aiohappyeyeballs>=2.3.0 in c:\\users\\luiz\\appdata\\local\\programs\\python\\python312\\lib\\site-packages (from aiohttp<4.0.0,>=3.8.3->langchain==0.3.0) (2.4.4)\n",
      "Requirement already satisfied: aiosignal>=1.1.2 in c:\\users\\luiz\\appdata\\local\\programs\\python\\python312\\lib\\site-packages (from aiohttp<4.0.0,>=3.8.3->langchain==0.3.0) (1.3.1)\n",
      "Requirement already satisfied: attrs>=17.3.0 in c:\\users\\luiz\\appdata\\local\\programs\\python\\python312\\lib\\site-packages (from aiohttp<4.0.0,>=3.8.3->langchain==0.3.0) (24.2.0)\n",
      "Requirement already satisfied: frozenlist>=1.1.1 in c:\\users\\luiz\\appdata\\local\\programs\\python\\python312\\lib\\site-packages (from aiohttp<4.0.0,>=3.8.3->langchain==0.3.0) (1.5.0)\n",
      "Requirement already satisfied: multidict<7.0,>=4.5 in c:\\users\\luiz\\appdata\\local\\programs\\python\\python312\\lib\\site-packages (from aiohttp<4.0.0,>=3.8.3->langchain==0.3.0) (6.1.0)\n",
      "Requirement already satisfied: propcache>=0.2.0 in c:\\users\\luiz\\appdata\\local\\programs\\python\\python312\\lib\\site-packages (from aiohttp<4.0.0,>=3.8.3->langchain==0.3.0) (0.2.1)\n",
      "Requirement already satisfied: yarl<2.0,>=1.17.0 in c:\\users\\luiz\\appdata\\local\\programs\\python\\python312\\lib\\site-packages (from aiohttp<4.0.0,>=3.8.3->langchain==0.3.0) (1.18.3)\n",
      "Requirement already satisfied: jsonpatch<2.0,>=1.33 in c:\\users\\luiz\\appdata\\local\\programs\\python\\python312\\lib\\site-packages (from langchain-core<0.4.0,>=0.3.0->langchain==0.3.0) (1.33)\n",
      "Requirement already satisfied: packaging<25,>=23.2 in c:\\users\\luiz\\appdata\\local\\programs\\python\\python312\\lib\\site-packages (from langchain-core<0.4.0,>=0.3.0->langchain==0.3.0) (24.1)\n",
      "Requirement already satisfied: typing-extensions>=4.7 in c:\\users\\luiz\\appdata\\local\\programs\\python\\python312\\lib\\site-packages (from langchain-core<0.4.0,>=0.3.0->langchain==0.3.0) (4.12.2)\n",
      "Requirement already satisfied: httpx<1,>=0.23.0 in c:\\users\\luiz\\appdata\\local\\programs\\python\\python312\\lib\\site-packages (from langsmith<0.2.0,>=0.1.17->langchain==0.3.0) (0.27.0)\n",
      "Requirement already satisfied: orjson<4.0.0,>=3.9.14 in c:\\users\\luiz\\appdata\\local\\programs\\python\\python312\\lib\\site-packages (from langsmith<0.2.0,>=0.1.17->langchain==0.3.0) (3.10.12)\n",
      "Requirement already satisfied: requests-toolbelt<2.0.0,>=1.0.0 in c:\\users\\luiz\\appdata\\local\\programs\\python\\python312\\lib\\site-packages (from langsmith<0.2.0,>=0.1.17->langchain==0.3.0) (1.0.0)\n",
      "Requirement already satisfied: annotated-types>=0.6.0 in c:\\users\\luiz\\appdata\\local\\programs\\python\\python312\\lib\\site-packages (from pydantic<3.0.0,>=2.7.4->langchain==0.3.0) (0.7.0)\n",
      "Requirement already satisfied: pydantic-core==2.23.4 in c:\\users\\luiz\\appdata\\local\\programs\\python\\python312\\lib\\site-packages (from pydantic<3.0.0,>=2.7.4->langchain==0.3.0) (2.23.4)\n",
      "Requirement already satisfied: charset-normalizer<4,>=2 in c:\\users\\luiz\\appdata\\local\\programs\\python\\python312\\lib\\site-packages (from requests<3,>=2->langchain==0.3.0) (3.3.2)\n",
      "Requirement already satisfied: idna<4,>=2.5 in c:\\users\\luiz\\appdata\\local\\programs\\python\\python312\\lib\\site-packages (from requests<3,>=2->langchain==0.3.0) (3.7)\n",
      "Requirement already satisfied: urllib3<3,>=1.21.1 in c:\\users\\luiz\\appdata\\local\\programs\\python\\python312\\lib\\site-packages (from requests<3,>=2->langchain==0.3.0) (2.2.2)\n",
      "Requirement already satisfied: certifi>=2017.4.17 in c:\\users\\luiz\\appdata\\local\\programs\\python\\python312\\lib\\site-packages (from requests<3,>=2->langchain==0.3.0) (2024.7.4)\n",
      "Requirement already satisfied: greenlet!=0.4.17 in c:\\users\\luiz\\appdata\\local\\programs\\python\\python312\\lib\\site-packages (from SQLAlchemy<3,>=1.4->langchain==0.3.0) (3.1.1)\n",
      "Requirement already satisfied: anyio in c:\\users\\luiz\\appdata\\local\\programs\\python\\python312\\lib\\site-packages (from httpx<1,>=0.23.0->langsmith<0.2.0,>=0.1.17->langchain==0.3.0) (4.4.0)\n",
      "Requirement already satisfied: httpcore==1.* in c:\\users\\luiz\\appdata\\local\\programs\\python\\python312\\lib\\site-packages (from httpx<1,>=0.23.0->langsmith<0.2.0,>=0.1.17->langchain==0.3.0) (1.0.5)\n",
      "Requirement already satisfied: sniffio in c:\\users\\luiz\\appdata\\local\\programs\\python\\python312\\lib\\site-packages (from httpx<1,>=0.23.0->langsmith<0.2.0,>=0.1.17->langchain==0.3.0) (1.3.1)\n",
      "Requirement already satisfied: h11<0.15,>=0.13 in c:\\users\\luiz\\appdata\\local\\programs\\python\\python312\\lib\\site-packages (from httpcore==1.*->httpx<1,>=0.23.0->langsmith<0.2.0,>=0.1.17->langchain==0.3.0) (0.14.0)\n",
      "Requirement already satisfied: jsonpointer>=1.9 in c:\\users\\luiz\\appdata\\local\\programs\\python\\python312\\lib\\site-packages (from jsonpatch<2.0,>=1.33->langchain-core<0.4.0,>=0.3.0->langchain==0.3.0) (3.0.0)\n"
     ]
    },
    {
     "name": "stderr",
     "output_type": "stream",
     "text": [
      "DEPRECATION: Loading egg at c:\\users\\luiz\\appdata\\local\\programs\\python\\python312\\lib\\site-packages\\vboxapi-1.0-py3.12.egg is deprecated. pip 25.1 will enforce this behaviour change. A possible replacement is to use pip for package installation. Discussion can be found at https://github.com/pypa/pip/issues/12330\n",
      "DEPRECATION: Loading egg at c:\\users\\luiz\\appdata\\local\\programs\\python\\python312\\lib\\site-packages\\vboxapi-1.0-py3.12.egg is deprecated. pip 25.1 will enforce this behaviour change. A possible replacement is to use pip for package installation. Discussion can be found at https://github.com/pypa/pip/issues/12330\n",
      "ERROR: Could not find a version that satisfies the requirement langchain-groq==0.2.9 (from versions: 0.0.1, 0.1.0, 0.1.1, 0.1.2, 0.1.3, 0.1.4, 0.1.5, 0.1.6, 0.1.8, 0.1.9, 0.1.10, 0.2.0.dev0, 0.2.0.dev1, 0.2.0, 0.2.1)\n",
      "ERROR: No matching distribution found for langchain-groq==0.2.9\n"
     ]
    },
    {
     "name": "stdout",
     "output_type": "stream",
     "text": [
      "Requirement already satisfied: langchain-community==0.3.0 in c:\\users\\luiz\\appdata\\local\\programs\\python\\python312\\lib\\site-packages (0.3.0)"
     ]
    },
    {
     "name": "stderr",
     "output_type": "stream",
     "text": [
      "DEPRECATION: Loading egg at c:\\users\\luiz\\appdata\\local\\programs\\python\\python312\\lib\\site-packages\\vboxapi-1.0-py3.12.egg is deprecated. pip 25.1 will enforce this behaviour change. A possible replacement is to use pip for package installation. Discussion can be found at https://github.com/pypa/pip/issues/12330\n"
     ]
    },
    {
     "name": "stdout",
     "output_type": "stream",
     "text": [
      "\n",
      "Requirement already satisfied: PyYAML>=5.3 in c:\\users\\luiz\\appdata\\local\\programs\\python\\python312\\lib\\site-packages (from langchain-community==0.3.0) (6.0.2)\n",
      "Requirement already satisfied: SQLAlchemy<3,>=1.4 in c:\\users\\luiz\\appdata\\local\\programs\\python\\python312\\lib\\site-packages (from langchain-community==0.3.0) (2.0.36)\n",
      "Requirement already satisfied: aiohttp<4.0.0,>=3.8.3 in c:\\users\\luiz\\appdata\\local\\programs\\python\\python312\\lib\\site-packages (from langchain-community==0.3.0) (3.11.9)\n",
      "Requirement already satisfied: dataclasses-json<0.7,>=0.5.7 in c:\\users\\luiz\\appdata\\local\\programs\\python\\python312\\lib\\site-packages (from langchain-community==0.3.0) (0.6.7)\n",
      "Requirement already satisfied: langchain<0.4.0,>=0.3.0 in c:\\users\\luiz\\appdata\\local\\programs\\python\\python312\\lib\\site-packages (from langchain-community==0.3.0) (0.3.0)\n",
      "Requirement already satisfied: langchain-core<0.4.0,>=0.3.0 in c:\\users\\luiz\\appdata\\local\\programs\\python\\python312\\lib\\site-packages (from langchain-community==0.3.0) (0.3.21)\n",
      "Requirement already satisfied: langsmith<0.2.0,>=0.1.112 in c:\\users\\luiz\\appdata\\local\\programs\\python\\python312\\lib\\site-packages (from langchain-community==0.3.0) (0.1.147)\n",
      "Requirement already satisfied: numpy<2.0.0,>=1.26.0 in c:\\users\\luiz\\appdata\\local\\programs\\python\\python312\\lib\\site-packages (from langchain-community==0.3.0) (1.26.4)\n",
      "Requirement already satisfied: pydantic-settings<3.0.0,>=2.4.0 in c:\\users\\luiz\\appdata\\local\\programs\\python\\python312\\lib\\site-packages (from langchain-community==0.3.0) (2.6.1)\n",
      "Requirement already satisfied: requests<3,>=2 in c:\\users\\luiz\\appdata\\local\\programs\\python\\python312\\lib\\site-packages (from langchain-community==0.3.0) (2.32.3)\n",
      "Requirement already satisfied: tenacity!=8.4.0,<9.0.0,>=8.1.0 in c:\\users\\luiz\\appdata\\local\\programs\\python\\python312\\lib\\site-packages (from langchain-community==0.3.0) (8.5.0)\n",
      "Requirement already satisfied: aiohappyeyeballs>=2.3.0 in c:\\users\\luiz\\appdata\\local\\programs\\python\\python312\\lib\\site-packages (from aiohttp<4.0.0,>=3.8.3->langchain-community==0.3.0) (2.4.4)\n",
      "Requirement already satisfied: aiosignal>=1.1.2 in c:\\users\\luiz\\appdata\\local\\programs\\python\\python312\\lib\\site-packages (from aiohttp<4.0.0,>=3.8.3->langchain-community==0.3.0) (1.3.1)\n",
      "Requirement already satisfied: attrs>=17.3.0 in c:\\users\\luiz\\appdata\\local\\programs\\python\\python312\\lib\\site-packages (from aiohttp<4.0.0,>=3.8.3->langchain-community==0.3.0) (24.2.0)\n",
      "Requirement already satisfied: frozenlist>=1.1.1 in c:\\users\\luiz\\appdata\\local\\programs\\python\\python312\\lib\\site-packages (from aiohttp<4.0.0,>=3.8.3->langchain-community==0.3.0) (1.5.0)\n",
      "Requirement already satisfied: multidict<7.0,>=4.5 in c:\\users\\luiz\\appdata\\local\\programs\\python\\python312\\lib\\site-packages (from aiohttp<4.0.0,>=3.8.3->langchain-community==0.3.0) (6.1.0)\n",
      "Requirement already satisfied: propcache>=0.2.0 in c:\\users\\luiz\\appdata\\local\\programs\\python\\python312\\lib\\site-packages (from aiohttp<4.0.0,>=3.8.3->langchain-community==0.3.0) (0.2.1)\n",
      "Requirement already satisfied: yarl<2.0,>=1.17.0 in c:\\users\\luiz\\appdata\\local\\programs\\python\\python312\\lib\\site-packages (from aiohttp<4.0.0,>=3.8.3->langchain-community==0.3.0) (1.18.3)\n",
      "Requirement already satisfied: marshmallow<4.0.0,>=3.18.0 in c:\\users\\luiz\\appdata\\local\\programs\\python\\python312\\lib\\site-packages (from dataclasses-json<0.7,>=0.5.7->langchain-community==0.3.0) (3.23.1)\n",
      "Requirement already satisfied: typing-inspect<1,>=0.4.0 in c:\\users\\luiz\\appdata\\local\\programs\\python\\python312\\lib\\site-packages (from dataclasses-json<0.7,>=0.5.7->langchain-community==0.3.0) (0.9.0)\n",
      "Requirement already satisfied: langchain-text-splitters<0.4.0,>=0.3.0 in c:\\users\\luiz\\appdata\\local\\programs\\python\\python312\\lib\\site-packages (from langchain<0.4.0,>=0.3.0->langchain-community==0.3.0) (0.3.2)\n",
      "Requirement already satisfied: pydantic<3.0.0,>=2.7.4 in c:\\users\\luiz\\appdata\\local\\programs\\python\\python312\\lib\\site-packages (from langchain<0.4.0,>=0.3.0->langchain-community==0.3.0) (2.9.2)\n",
      "Requirement already satisfied: jsonpatch<2.0,>=1.33 in c:\\users\\luiz\\appdata\\local\\programs\\python\\python312\\lib\\site-packages (from langchain-core<0.4.0,>=0.3.0->langchain-community==0.3.0) (1.33)\n",
      "Requirement already satisfied: packaging<25,>=23.2 in c:\\users\\luiz\\appdata\\local\\programs\\python\\python312\\lib\\site-packages (from langchain-core<0.4.0,>=0.3.0->langchain-community==0.3.0) (24.1)\n",
      "Requirement already satisfied: typing-extensions>=4.7 in c:\\users\\luiz\\appdata\\local\\programs\\python\\python312\\lib\\site-packages (from langchain-core<0.4.0,>=0.3.0->langchain-community==0.3.0) (4.12.2)\n",
      "Requirement already satisfied: httpx<1,>=0.23.0 in c:\\users\\luiz\\appdata\\local\\programs\\python\\python312\\lib\\site-packages (from langsmith<0.2.0,>=0.1.112->langchain-community==0.3.0) (0.27.0)\n",
      "Requirement already satisfied: orjson<4.0.0,>=3.9.14 in c:\\users\\luiz\\appdata\\local\\programs\\python\\python312\\lib\\site-packages (from langsmith<0.2.0,>=0.1.112->langchain-community==0.3.0) (3.10.12)\n",
      "Requirement already satisfied: requests-toolbelt<2.0.0,>=1.0.0 in c:\\users\\luiz\\appdata\\local\\programs\\python\\python312\\lib\\site-packages (from langsmith<0.2.0,>=0.1.112->langchain-community==0.3.0) (1.0.0)\n",
      "Requirement already satisfied: python-dotenv>=0.21.0 in c:\\users\\luiz\\appdata\\local\\programs\\python\\python312\\lib\\site-packages (from pydantic-settings<3.0.0,>=2.4.0->langchain-community==0.3.0) (1.0.1)\n",
      "Requirement already satisfied: charset-normalizer<4,>=2 in c:\\users\\luiz\\appdata\\local\\programs\\python\\python312\\lib\\site-packages (from requests<3,>=2->langchain-community==0.3.0) (3.3.2)\n",
      "Requirement already satisfied: idna<4,>=2.5 in c:\\users\\luiz\\appdata\\local\\programs\\python\\python312\\lib\\site-packages (from requests<3,>=2->langchain-community==0.3.0) (3.7)\n",
      "Requirement already satisfied: urllib3<3,>=1.21.1 in c:\\users\\luiz\\appdata\\local\\programs\\python\\python312\\lib\\site-packages (from requests<3,>=2->langchain-community==0.3.0) (2.2.2)\n",
      "Requirement already satisfied: certifi>=2017.4.17 in c:\\users\\luiz\\appdata\\local\\programs\\python\\python312\\lib\\site-packages (from requests<3,>=2->langchain-community==0.3.0) (2024.7.4)\n",
      "Requirement already satisfied: greenlet!=0.4.17 in c:\\users\\luiz\\appdata\\local\\programs\\python\\python312\\lib\\site-packages (from SQLAlchemy<3,>=1.4->langchain-community==0.3.0) (3.1.1)\n",
      "Requirement already satisfied: anyio in c:\\users\\luiz\\appdata\\local\\programs\\python\\python312\\lib\\site-packages (from httpx<1,>=0.23.0->langsmith<0.2.0,>=0.1.112->langchain-community==0.3.0) (4.4.0)\n",
      "Requirement already satisfied: httpcore==1.* in c:\\users\\luiz\\appdata\\local\\programs\\python\\python312\\lib\\site-packages (from httpx<1,>=0.23.0->langsmith<0.2.0,>=0.1.112->langchain-community==0.3.0) (1.0.5)\n",
      "Requirement already satisfied: sniffio in c:\\users\\luiz\\appdata\\local\\programs\\python\\python312\\lib\\site-packages (from httpx<1,>=0.23.0->langsmith<0.2.0,>=0.1.112->langchain-community==0.3.0) (1.3.1)\n",
      "Requirement already satisfied: h11<0.15,>=0.13 in c:\\users\\luiz\\appdata\\local\\programs\\python\\python312\\lib\\site-packages (from httpcore==1.*->httpx<1,>=0.23.0->langsmith<0.2.0,>=0.1.112->langchain-community==0.3.0) (0.14.0)\n",
      "Requirement already satisfied: jsonpointer>=1.9 in c:\\users\\luiz\\appdata\\local\\programs\\python\\python312\\lib\\site-packages (from jsonpatch<2.0,>=1.33->langchain-core<0.4.0,>=0.3.0->langchain-community==0.3.0) (3.0.0)\n",
      "Requirement already satisfied: annotated-types>=0.6.0 in c:\\users\\luiz\\appdata\\local\\programs\\python\\python312\\lib\\site-packages (from pydantic<3.0.0,>=2.7.4->langchain<0.4.0,>=0.3.0->langchain-community==0.3.0) (0.7.0)\n",
      "Requirement already satisfied: pydantic-core==2.23.4 in c:\\users\\luiz\\appdata\\local\\programs\\python\\python312\\lib\\site-packages (from pydantic<3.0.0,>=2.7.4->langchain<0.4.0,>=0.3.0->langchain-community==0.3.0) (2.23.4)\n",
      "Requirement already satisfied: mypy-extensions>=0.3.0 in c:\\users\\luiz\\appdata\\local\\programs\\python\\python312\\lib\\site-packages (from typing-inspect<1,>=0.4.0->dataclasses-json<0.7,>=0.5.7->langchain-community==0.3.0) (1.0.0)\n",
      "Requirement already satisfied: groq in c:\\users\\luiz\\appdata\\local\\programs\\python\\python312\\lib\\site-packages (0.13.0)\n",
      "Requirement already satisfied: anyio<5,>=3.5.0 in c:\\users\\luiz\\appdata\\local\\programs\\python\\python312\\lib\\site-packages (from groq) (4.4.0)\n",
      "Requirement already satisfied: distro<2,>=1.7.0 in c:\\users\\luiz\\appdata\\local\\programs\\python\\python312\\lib\\site-packages (from groq) (1.9.0)\n",
      "Requirement already satisfied: httpx<1,>=0.23.0 in c:\\users\\luiz\\appdata\\local\\programs\\python\\python312\\lib\\site-packages (from groq) (0.27.0)\n",
      "Requirement already satisfied: pydantic<3,>=1.9.0 in c:\\users\\luiz\\appdata\\local\\programs\\python\\python312\\lib\\site-packages (from groq) (2.9.2)\n",
      "Requirement already satisfied: sniffio in c:\\users\\luiz\\appdata\\local\\programs\\python\\python312\\lib\\site-packages (from groq) (1.3.1)\n",
      "Requirement already satisfied: typing-extensions<5,>=4.7 in c:\\users\\luiz\\appdata\\local\\programs\\python\\python312\\lib\\site-packages (from groq) (4.12.2)\n",
      "Requirement already satisfied: idna>=2.8 in c:\\users\\luiz\\appdata\\local\\programs\\python\\python312\\lib\\site-packages (from anyio<5,>=3.5.0->groq) (3.7)\n",
      "Requirement already satisfied: certifi in c:\\users\\luiz\\appdata\\local\\programs\\python\\python312\\lib\\site-packages (from httpx<1,>=0.23.0->groq) (2024.7.4)\n",
      "Requirement already satisfied: httpcore==1.* in c:\\users\\luiz\\appdata\\local\\programs\\python\\python312\\lib\\site-packages (from httpx<1,>=0.23.0->groq) (1.0.5)\n",
      "Requirement already satisfied: h11<0.15,>=0.13 in c:\\users\\luiz\\appdata\\local\\programs\\python\\python312\\lib\\site-packages (from httpcore==1.*->httpx<1,>=0.23.0->groq) (0.14.0)\n",
      "Requirement already satisfied: annotated-types>=0.6.0 in c:\\users\\luiz\\appdata\\local\\programs\\python\\python312\\lib\\site-packages (from pydantic<3,>=1.9.0->groq) (0.7.0)\n",
      "Requirement already satisfied: pydantic-core==2.23.4 in c:\\users\\luiz\\appdata\\local\\programs\\python\\python312\\lib\\site-packages (from pydantic<3,>=1.9.0->groq) (2.23.4)\n"
     ]
    },
    {
     "name": "stderr",
     "output_type": "stream",
     "text": [
      "DEPRECATION: Loading egg at c:\\users\\luiz\\appdata\\local\\programs\\python\\python312\\lib\\site-packages\\vboxapi-1.0-py3.12.egg is deprecated. pip 25.1 will enforce this behaviour change. A possible replacement is to use pip for package installation. Discussion can be found at https://github.com/pypa/pip/issues/12330\n"
     ]
    },
    {
     "name": "stdout",
     "output_type": "stream",
     "text": [
      "Requirement already satisfied: pypdf==5.0.0 in c:\\users\\luiz\\appdata\\local\\programs\\python\\python312\\lib\\site-packages (5.0.0)\n"
     ]
    },
    {
     "name": "stderr",
     "output_type": "stream",
     "text": [
      "DEPRECATION: Loading egg at c:\\users\\luiz\\appdata\\local\\programs\\python\\python312\\lib\\site-packages\\vboxapi-1.0-py3.12.egg is deprecated. pip 25.1 will enforce this behaviour change. A possible replacement is to use pip for package installation. Discussion can be found at https://github.com/pypa/pip/issues/12330\n"
     ]
    },
    {
     "name": "stdout",
     "output_type": "stream",
     "text": [
      "Requirement already satisfied: youtube_transcript_api==0.6.2 in c:\\users\\luiz\\appdata\\local\\programs\\python\\python312\\lib\\site-packages (0.6.2)\n",
      "Requirement already satisfied: requests in c:\\users\\luiz\\appdata\\local\\programs\\python\\python312\\lib\\site-packages (from youtube_transcript_api==0.6.2) (2.32.3)\n",
      "Requirement already satisfied: charset-normalizer<4,>=2 in c:\\users\\luiz\\appdata\\local\\programs\\python\\python312\\lib\\site-packages (from requests->youtube_transcript_api==0.6.2) (3.3.2)\n",
      "Requirement already satisfied: idna<4,>=2.5 in c:\\users\\luiz\\appdata\\local\\programs\\python\\python312\\lib\\site-packages (from requests->youtube_transcript_api==0.6.2) (3.7)\n",
      "Requirement already satisfied: urllib3<3,>=1.21.1 in c:\\users\\luiz\\appdata\\local\\programs\\python\\python312\\lib\\site-packages (from requests->youtube_transcript_api==0.6.2) (2.2.2)\n",
      "Requirement already satisfied: certifi>=2017.4.17 in c:\\users\\luiz\\appdata\\local\\programs\\python\\python312\\lib\\site-packages (from requests->youtube_transcript_api==0.6.2) (2024.7.4)\n"
     ]
    },
    {
     "name": "stderr",
     "output_type": "stream",
     "text": [
      "DEPRECATION: Loading egg at c:\\users\\luiz\\appdata\\local\\programs\\python\\python312\\lib\\site-packages\\vboxapi-1.0-py3.12.egg is deprecated. pip 25.1 will enforce this behaviour change. A possible replacement is to use pip for package installation. Discussion can be found at https://github.com/pypa/pip/issues/12330\n"
     ]
    }
   ],
   "source": [
    "!pip install langchain==0.3.0\n",
    "\n",
    "!pip install langchain-groq==0.2.9\n",
    "!pip install langchain-community==0.3.0\n",
    "!pip install groq\n",
    "!pip install pypdf==5.0.0\n",
    "!pip install youtube_transcript_api==0.6.2"
   ]
  },
  {
   "cell_type": "code",
   "execution_count": null,
   "metadata": {},
   "outputs": [
    {
     "name": "stdout",
     "output_type": "stream",
     "text": [
      "Bem vindo ao BOT\n"
     ]
    }
   ],
   "source": [
    "import os\n",
    "api_key ='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'\n",
    "\n",
    "os.environ['GROQ_API_KEY'] = api_key\n",
    "\n",
    "from langchain_groq import ChatGroq\n",
    "from langchain.prompts import ChatPromptTemplate\n",
    "\n",
    "\n",
    "\n",
    "chat = ChatGroq(model='llama-3.1-70b-versatile')\n",
    "\n",
    "\n",
    "def resposta_bot(mensagens, document):\n",
    "    mensagem_system = \"Você é um assistente amigável chamado Asimo. Você utiliza as seguintes informações para formular suas respostas: {informacoes}\"\n",
    "    mensagens_modelo = [('system', mensagem_system)]\n",
    "    mensagens_modelo += mensagens\n",
    "    template = ChatPromptTemplate.from_messages(mensagens_modelo)\n",
    "    chain = template | chat\n",
    "    \n",
    "    return chain.invoke({'informacoes':documento}).content\n",
    "\n",
    "print(\"Bem vindo ao BOT\")\n"
   ]
  },
  {
   "cell_type": "code",
   "execution_count": null,
   "metadata": {},
   "outputs": [],
   "source": [
    "from langchain_community.document_loaders import WebBaseLoader\n",
    "from langchain_community.document_loaders import YoutubeLoader\n",
    "from langchain_community.document_loaders import PyPDFLoader\n",
    "\n",
    "def carrega_site():\n",
    "    \n",
    "    url_site = input(\"Digite a url do site:\")\n",
    "    loader = WebBaseLoader(url_site)\n",
    "    lista_documentos = loader.load()\n",
    "    documento = ''\n",
    "    \n",
    "    for doc in lista_documentos:\n",
    "        documento += doc.page_content\n",
    "    \n",
    "    return documento\n",
    "\n",
    "def carrega_pdf():\n",
    "    caminho = '/content/drive/MyDrive/curso_ia_python/arquivos/RoteiroViagemEgito.pdf'\n",
    "    loader = PyPDFLoader(caminho)\n",
    "    \n",
    "    lista_documentos = loader.load()\n",
    "    documento = ''\n",
    "    \n",
    "    for doc in lista_documentos:\n",
    "        documento += doc.page_content\n",
    "    \n",
    "    return documento\n",
    "\n",
    "\n",
    "\n",
    "def carrega_youtube():\n",
    "    url_youtube = input(\"Digite a url do video do youtube:\")\n",
    "    loader = YoutubeLoader.from_youtube_url(\n",
    "        url_youtube,\n",
    "        language=['pt']\n",
    "    )\n",
    "    lista_documentos = loader.load()\n",
    "    documento = ''\n",
    "    \n",
    "    for doc in lista_documentos:\n",
    "        documento += doc.page_content\n",
    "    \n",
    "    return documento"
   ]
  },
  {
   "cell_type": "code",
   "execution_count": null,
   "metadata": {},
   "outputs": [
    {
     "name": "stdout",
     "output_type": "stream",
     "text": [
      "site\n",
      "Selecao:1\n",
      "Bot: Olá! É um prazer conversar com você! Como posso ajudá-lo hoje?\n",
      "Bot: Olá! Como posso ajudá-lo hoje?\n",
      "Bot: Olá! Como posso ajudá-lo hoje?\n",
      "Bot: Meu nome é Bot! É um prazer conversar com você! Como posso ajudá-lo hoje?\n",
      "Bot: Um objetivo ambicioso!\n",
      "\n",
      "Existem muitas maneiras de se tornar rico, mas vou te dar algumas dicas gerais que podem ajudar. Lembre-se de que a riqueza é um processo que leva tempo, paciência e esforço.\n",
      "\n",
      "1. **Defina seus objetivos**: Qual é o seu conceito de riqueza? Quanto dinheiro você precisa para se sentir rico? Estabeleça metas claras e alcançáveis.\n",
      "2. **Eduque-se**: Aprenda sobre finanças, investimentos e negócios. Leia livros, cursos e artigos que possam te ajudar a entender melhor como o dinheiro funciona.\n",
      "3. **Crie um orçamento**: Organize suas finanças e faça um orçamento que reflita seus objetivos. Reduza gastos desnecessários e invista no que realmente importa.\n",
      "4. **Invista**: Invista em ativos que possam gerar renda passiva, como ações, imóveis, fundos de investimento, etc.\n",
      "5. **Desenvolva habilidades**: Aprenda habilidades que possam aumentar sua renda, como programação, marketing, escrita, etc.\n",
      "6. **Crie um negócio**: Se você tem uma ideia empreendedora, considere criar um negócio que possa gerar renda.\n",
      "7. **Aprenda a gerenciar riscos**: Aprenda a gerenciar riscos e a tomar decisões financeiras informadas.\n",
      "8. **Seja paciente**: A riqueza não é algo que se consegue da noite para o dia. Seja paciente e persistente em seus esforços.\n",
      "\n",
      "Lembre-se de que a riqueza é um processo que envolve muito mais do que apenas dinheiro. É importante também cuidar da sua saúde, relacionamentos e bem-estar.\n",
      "\n",
      "Agora, qual é o seu plano para se tornar rico?\n",
      "Muito Obrigado por usar o asimoBot\n",
      "[('user', 'olá'), ('assistant', 'resposta'), ('user', 'olá'), ('assistant', 'resposta'), ('user', 'olá'), ('assistant', 'resposta'), ('user', 'Qual seu nome?'), ('assistant', 'resposta'), ('user', 'me ajude a fica rrico'), ('assistant', 'resposta')]\n"
     ]
    }
   ],
   "source": [
    "texto_selecao = '''\n",
    "                 Digite 1 se vocÊ quiser conversar com um site\\n\n",
    "                 Digite 2 se vocÊ quiser conversar com um pdf\\n\n",
    "                 Digite 3 se vocÊ quiser conversar com um vídeo de youtube\n",
    "                 '''\n",
    "                 \n",
    "arr = ['site','pdf','youtube']\n",
    "while True:\n",
    "    selecao = input(texto_selecao)\n",
    "    \n",
    "    if selecao in ['1','2', '3']:\n",
    "        print(arr[int(selecao)-1])\n",
    "        \n",
    "    \n",
    "    if selecao == '1':\n",
    "        document = carrega_site()\n",
    "        break\n",
    "    elif selecao == '2':\n",
    "        document = carrega_pdf()\n",
    "        break\n",
    "    elif selecao == '3':\n",
    "        document = carrega_youtube()\n",
    "        break\n",
    "    print(\"Digite um valor entre 1 e 3 \")\n",
    "    \n",
    "\n",
    "print(f\"Selecao:{selecao}\")\n",
    "mensagens = [] \n",
    "\n",
    "while True:\n",
    "    pergunta = input(\"Usuario: \")\n",
    "    \n",
    "    if (pergunta.lower() == 'x'):\n",
    "        break\n",
    "    mensagens.append(('user', pergunta))\n",
    "    resposta = resposta_bot(mensagens, document)\n",
    "    mensagens.append(('assistant','resposta'))\n",
    "    print(f'Bot: {resposta}')\n",
    "    \n",
    "print(\"Muito Obrigado por usar o asimoBot\")\n",
    "print(mensagens)"
   ]
  }
 ],
 "metadata": {
  "kernelspec": {
   "display_name": "Python 3",
   "language": "python",
   "name": "python3"
  },
  "language_info": {
   "codemirror_mode": {
    "name": "ipython",
    "version": 3
   },
   "file_extension": ".py",
   "mimetype": "text/x-python",
   "name": "python",
   "nbconvert_exporter": "python",
   "pygments_lexer": "ipython3",
   "version": "3.12.5"
  }
 },
 "nbformat": 4,
 "nbformat_minor": 2
}
